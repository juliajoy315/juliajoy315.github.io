{
 "cells": [
  {
   "cell_type": "markdown",
   "metadata": {},
   "source": [
    "# CSCI 0451: Reflective Goal-Setting\n",
    "\n",
    "Julia Joy "
   ]
  },
  {
   "cell_type": "markdown",
   "metadata": {},
   "source": [
    "## What You'll Learn\n",
    "\n",
    "*The knowledge we'll develop in CSCI 0451 can be broadly divided into four main areas:*\n",
    "\n",
    "- ***Theory***: *mathematical descriptions of frameworks and algorithms.*\n",
    "- ***Implementation***: *effective coding and use of tools in order to implement efficient machine learning algorithms.*\n",
    "- ***Experimentation***: *performing experiments to assess the performance of algorithms and clearly communicating about the results.*\n",
    "- ***Social responsibility***: *critical analysis of sources of bias and harm in machine learning algorithms; theoretical formulations of fairness and bias*\n",
    "\n",
    "*Every student should grow toward each of these areas, but you can choose to specialize if you'd like! If there are one or two of these categories on which you'd especially like to focus, list them below. Feel free to include any details that you'd like -- this can help me tailor the course content to your interests.*"
   ]
  },
  {
   "cell_type": "markdown",
   "metadata": {},
   "source": [
    "I think that the areas that i would most like to focus on are primarily the Implementation. I always feel like more practice with effective coding and learning how to use new tools is so invaluable, I am excited to continue that in this course, especially with all the different kinds of Machine Learning algorithms and models. I am also interested in the Theory aspect as a mathematics minor, I love learning about the numbers and formulas that go behind the operations we can take for granted when we code. I never took multi-calculus (I know, odd for a math minor), so while I think it will be a bit challenging to dredge up my calc and linear algebra since I took those courses so long ago, I think it will be rewarding and fun to expand my knowledge. "
   ]
  },
  {
   "cell_type": "markdown",
   "metadata": {},
   "source": [
    "## What You'll Achieve\n",
    "\n",
    "### Blog Posts\n",
    "\n",
    "*Most blog posts will require around 5-8 hours on average to complete, plus time for revisions in response to feedback. Blog posts will most frequently involve a mix of mathematical problem-solving, coding, experimentation, and written discussion. Some blog posts will ask you to critically discuss recent readings in an essay-like format.*"
   ]
  },
  {
   "cell_type": "markdown",
   "metadata": {},
   "source": [
    "I think blog posts will be pretty crucial to my learning in this course. Already with the first blog post and working on the second, I enjoy taking the content we discuss in class and applying it on my own. I have always felt like a hands-on learning style fits me the best. Ideally I would like to have a \"Satisfactory/No Revision Required\" rating on 5-6 of my of my blog posts, and perhaps completing more (I want to complete at least around 60-80% of blog posts) but leaving some space for some blog posts to remain in the \"needs revision category\". I have realized that I am someone who is very driven by interest when it comes to coursework. Assignments I enjoy are fun little challenges for me, and I will spend hours working and tweaking them to my satisfiability even when they're already probably pass the threshold of \"good enough\" grade wise. But assignments with content that I am not as passionate or interested about can be really hard for me to motivate to spend extra time on, so I would enjoy leaving some space for myself to say \"no I think that is good enough for me. I tried it out and am satisfied with my work.\". I aim to give myself about 1-1.5 weeks for a fresh first-draft submission of each blog post I do, just to keep myself on a semi-timeline to ensure nothing gets crammed in at the end. With revision, I think that will be more dependent on extra time I have each week, spending more time on it in the weeks I have a bit more extra time and vice versa, I will allow myself less of a set timeline with those. "
   ]
  },
  {
   "cell_type": "markdown",
   "metadata": {},
   "source": [
    "### Course Presence (Participation)\n",
    "\n",
    "*You make a choice each day about how to show up for class: whether you'll be prepared, whether you'll engage with me and your peers in a constructive manner; and whether you'll be active during lecture and discussions.*\n",
    "\n",
    "*An especially important form of course presence is the daily warmup. We'll spend the first 10-15 minutes of most class periods on warmup activities. You're expected to have prepared the warmup activity ahead of time (this means you'll need to have completed the readings as well). Each time, we'll sort into groups of 5-6 students, and one of you (randomly selected) will be responsible for presenting the activity on the whiteboard. If you're not feeling prepared to present the activity, you can \"pass\" to the next person, or ask for help along the way.*"
   ]
  },
  {
   "cell_type": "markdown",
   "metadata": {},
   "source": [
    "I strive to attend every class, with the exception of one to two when it is truly necessary to miss class, such as if I'm sick, have to be out of town for some reason, or if my mental health gets in the way of my academics. In our two weeks of class, I have already gained an appreciation for the daily warmups. I find myself actually spending a good chunk of time on them before class, but I feel like it really does benefit me. The warmups prep me and lay a groundwork for either just basic understanding for the subject we tackle in that class, or in the application of what we're about to talk about. I aim to complete every warmup prior to class this semester, with the leeway of one or two because life does happen. Outside of completing each warmup, whenever we are in our small groups, I aim to be very involved and ask questions and offer suggestions/solutions to whoever is the warmup presenter. I hope to complete most of the course readings, using it as more of a supplement to my hands on learning. Additionally, I notice that I frequently find it challenging to speak up in class, especially in a large class full of many people who are not only my peers but also my friends. The warmups in small groups help ease the transition before I potentially have to speak in front of the whole class. While I do still find it a bit intimidating, I really appreciate and value being able to talk the problems out in a smaller group setting before a larger one. Peer help/TA/office hours have long time been my favorite way to address questions or concepts I have a hard time grasping, so I expect to attend those when the need strikes. I have realized I am much more of a ask-questions-in-person kind of person than a slack questions user, so while I will check the slack and at some point probably use it to send a chat myself, I do not expect frequent use of it for myself. I think study groups will be big for me this semester, as I am familiar with many people in this course, so I think that will also be beneficial in my learning if I get stuck anywhere and help hours are immediately around. "
   ]
  },
  {
   "cell_type": "markdown",
   "metadata": {},
   "source": [
    "### Project \n",
    "\n",
    "*To finish off the course, you'll complete a long-term project that showcases your interests and skills. You'll be free to propose and pursue a topic. My expectation is that most projects will move significantly beyond the content covered in class in some way: you might implement a new algorithm, study a complex data set in depth, or conduct a series of experiments related to assessing algorithmic bias in a certain class of algorithm. You'll be expected to complete this project in small groups (of your choosing), and update us at a few milestones along the way.*\n",
    "\n",
    "*Please share a bit about what kind of topic might excite you, and set a few goals about how you plan to show up as a constructive team-member and co-inquirer (see the [ideas](ideas.qmd) for some inspiration*). "
   ]
  },
  {
   "cell_type": "markdown",
   "metadata": {},
   "source": [
    "I am excited about this project as I feel like it will allow me to explore what machine learning can be in an area that I'm a bit more interested in, whatever that may be. Without knowing exactly what my project will look like or be about I cannot detail my goals in that way, however I know some general ideas of what I would like to accomplish. I would like to complete all project milestones on time to keep myself and the group accountable in our semester time frame, contribute to the project in an equal manner including in the algorithm implementation and project presentation, and do what I can to be a great group project partner. I think that everyone has strengths and weaknesses, and for example while I don't think that I'm the best at writing automated checks for algorithms written by others, I have other skills to offer. I think that is the most important thing about working in a team, to acknowledge everyone's weaknesses and capitalize on peoples strengths. "
   ]
  }
 ],
 "metadata": {
  "kernelspec": {
   "display_name": "ml-0451",
   "language": "python",
   "name": "python3"
  },
  "language_info": {
   "name": "python",
   "version": "3.9.0"
  },
  "vscode": {
   "interpreter": {
    "hash": "debe06cc0f9553f110b64dc3926c05df82dae2145b852c8422b9c04315589dcb"
   }
  }
 },
 "nbformat": 4,
 "nbformat_minor": 4
}
