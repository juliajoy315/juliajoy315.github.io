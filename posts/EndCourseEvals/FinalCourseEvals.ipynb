{
 "cells": [
  {
   "cell_type": "raw",
   "metadata": {},
   "source": [
    "---\n",
    "title: \"CSCI 0451: End-Of-Course Reflection\"\n",
    "type: \"Reflection\"\n",
    "date: 2024-05-15\n",
    "description: |\n",
    "    We reflect on our learning, engagement, and achievement over the course of the semester. \n",
    "objectives: \n",
    "  - Reflection\n",
    "publish: \"true\"\n",
    "---"
   ]
  },
  {
   "attachments": {},
   "cell_type": "markdown",
   "metadata": {},
   "source": [
    "# CSCI 0451: End-Of-Course Reflection\n",
    "\n",
    "Julia Joy "
   ]
  },
  {
   "attachments": {},
   "cell_type": "markdown",
   "metadata": {},
   "source": [
    "## The Data\n",
    "\n",
    "### Presence in Class\n",
    "\n",
    "- *How often did you attend class? (e.g. \"almost always,\" \"I missed three times,\" etc.)* \n",
    "I attended nearly every class, with the exception of I believe 2 classes. \n",
    "- *How often did you take notes on the core readings ahead of the class period?* \n",
    " I always read the core readings ahead of class, probably taking notes on them around half of the time. \n",
    "- *How often were you **prepared** to present the daily warm-up exercise to your team, even if you weren't actually called?* \n",
    "Since I completed nearly every warmup, I would say I was almost always ready to present the daily warm-up exercises, probably with the exception of 2 times. \n",
    "- *How many times did you **actually** present the daily warm-up to your team?* \n",
    "This estimate is a bit tricky for me to remember, but I would guess around 8 times.\n",
    "- *How many times did you ask your team for help while presenting the daily warm-up?* \n",
    "I think I directly asked for help once. \n",
    "- *How often did you learn something new from a teammate's presentation of the daily warm-up?* \n",
    "I feel like I can frequently learn a little something new, even if I did the warmup correctly it is always interesting to see my other groupmates approaches or perspectives, so likely once a week I learned some kind of new little thing. \n",
    "- *How often did you help a teammate during the daily warm-up presentation?* \n",
    "Our group was great at contributing together, with a direct help I probably helped twice. \n",
    "- *Did you contribute a question for our guest speaker?*\n",
    "I don't believe I contributed a question for our guest speaker. \n",
    "\n",
    "### Presence Outside of Class \n",
    "\n",
    "- *How often did you attend Student Hours or Peer Help?* \n",
    "I believe I attended student hours/peer help once or twice. \n",
    "- *How often did you ask for or receive help from your fellow students?* \n",
    "We often met together in a study group, so I probably ask someone a question around once a week whether its about the warmups, blog posts, or general clarification of things were supposed to be doing. \n",
    "- *Did you regularly participate in a study group outside class?* \n",
    "Yes. \n",
    "- *How often did you post questions or answers in Slack?* \n",
    "I think I have maybe posted one question. \n",
    "\n",
    "### Assignments and Effort\n",
    "\n",
    "- *How many blog posts did you submit?* \n",
    "Five. \n",
    "- *How many of your submitted blog posts are at each of the following feedback stages?*\n",
    "    - *No revisions suggested:* 5\n",
    "    - *Revisions useful:* 0\n",
    "    - *Revisions encouraged:* 0\n",
    "    - *Incomplete:* 0\n",
    "- *Roughly how many hours per week did you spend on this course outside of class?* \n",
    "I would say 9-11 throughout the semester, and that number shooting up to 12-13 once we were working on the final project. \n"
   ]
  },
  {
   "attachments": {},
   "cell_type": "markdown",
   "metadata": {},
   "source": [
    "## What You Learned\n",
    "\n",
    "*At the beginning of the course, you may have expressed an interest in focusing a little extra on one or two of the following four categories:* \n",
    "\n",
    "- ***Theory***: *mathematical descriptions of frameworks and algorithms.*\n",
    "- ***Implementation***: *effective coding and use of tools in order to implement efficient machine learning algorithms.*\n",
    "- ***Experimentation***: *performing experiments to assess the performance of algorithms and clearly communicating about the results.*\n",
    "- ***Social responsibility***: *critical analysis of sources of bias and harm in machine learning algorithms; theoretical formulations of fairness and bias*\n",
    "\n",
    "*Did you choose to focus on any of these categories? If so, what did you do in order to pursue your interest?*    "
   ]
  },
  {
   "attachments": {},
   "cell_type": "markdown",
   "metadata": {},
   "source": [
    "\n",
    "I expressed an interest in focusing a bit extra on the implementation category. I always feel like more practice with effective coding and learning how to use new tools is so invaluable, and I believe I have definitely successfully focused in on this category throughout both my blog post work as well as my final project work. My perceptron and linear regression blog posts honed in on the implementation category as I effectively implemented machine learning algorithms/models. Through my final project, I \n",
    " performed various implementation of machine learning models, such as decision trees and random forests, the models were implemented with and trained on synthetic medical data, to perform our final projects goals of predicting health risks by outputting model-calculated risk scores. Embracing these assignments as learning opportunities, I believe I successfully refined my skills and proficiency in the realm of Implementation of machine learning.\n",
    "\n",
    " In my midcourse evals, I said that \"Our third week in the semester too maybe me more interested in the social responsibility side of machine learning algorithms, so potentially it would be interesting to conduct a series of experiments related to assessing algorithmic bias in a certain class of algorithm for my final project? We shall see!\" Looking back, I would say that I definitely focused in on the social responsibility category as well! I chose blog posts and projects that interested me throughout, so it is pleasant to see that I do find myself having a consistent pattern of interest in the social responsibility category. I completed the replication study and the WiDS conference blog posts both pertaining to the social responsibility category. Through my final project, I communicating our results in the context of identifying potential biases across different groups such as factors based on race, ethnicity, birthplace, and current town of residence, which required me to learn how to identify, understand, and evaluate environmental and societal inequities that may be influencing real-world health outcomes. \n",
    "\n",
    " I feel happy and proud of my work as it pertains to focusing in on any categories. I successfully focused in on Implementation, the category I set a goal out to do, and I discovered a newfound interest in the category of Social Responsibility as I noticed a recurring theme in the interest of my work. \n"
   ]
  },
  {
   "attachments": {},
   "cell_type": "markdown",
   "metadata": {},
   "source": [
    "## Reflecting on Goals\n",
    "\n",
    "*For each of the categories below, replace the \"[your response here]\" cell with 1-2 paragraphs in which you reflect on the following questions:* \n",
    "\n",
    "- *In what ways did you **meet** your goals from the beginning of the course? Be specific: explain what the goal was and what you did to meet it.* \n",
    "- *In what ways did you **not meet** your goals from the beginning of the course? Be specific: explain what the goal was and what the gap was between what you aspired to and what happened.* \n",
    "- *If there's any **context** you want to share about how you fared relative to your goals, please do!*\n",
    "\n",
    "### Blog Posts"
   ]
  },
  {
   "attachments": {},
   "cell_type": "markdown",
   "metadata": {},
   "source": [
    "In my beginning as well as my mid-semester course reflection, I aimed to complete \"5-6 solid good work blog posts\". I believe I have successfully completed this goal, as I have completed 5 blog posts to the E-excellent level, with my final project blog post brings it to 6 completed posts. In my goals for the beginning, I even said I would \"leave the space for 1-2 blog posts to remain in the M category\", so I feel happy and successful that I actually superseeded my goal and had only E blog posts. "
   ]
  },
  {
   "attachments": {},
   "cell_type": "markdown",
   "metadata": {},
   "source": [
    "### Course Presence (Participation)"
   ]
  },
  {
   "attachments": {},
   "cell_type": "markdown",
   "metadata": {},
   "source": [
    "Overall, I acted in accordance with the course presence/participation goals I set. I believe I only missed two classes this semester, which completes my goal to attend nearly every class unless truly having to miss it. In my goal setting I had aimed to attempt every warmup before class and I can happily and proudly say that I have done so for every class period I attended. I have also stuck in line of my goals of doing most of the course readings as well as thoroughly participating in our small warmup groups. As before in my mid-semester reflection, I was right in my guessing that I would not be the biggest slack user, but I have asked all the questions I needed answered in some form or another, whether it be study group or an office hour drop in. I did struggle, as I expected, to raise my hand to answer questions in class, my shyness outweighing everything else. It is something I have tried to work on for a long time, so I had a continued awareness for it, but not much improvement in that regard. I believe I met all of the goals I set for presence and participation in this course. "
   ]
  },
  {
   "attachments": {},
   "cell_type": "markdown",
   "metadata": {},
   "source": [
    "### Project "
   ]
  },
  {
   "attachments": {},
   "cell_type": "markdown",
   "metadata": {},
   "source": [
    "In my original goal setting, I said that I was \"excited about this project as I feel like it will allow me to explore what machine learning can be in an area that I'm a bit more interested in, whatever that may be\", and that \"I would like to complete all project milestones on time to keep myself and the group accountable in our semester time frame, contribute to the project in an equal manner including in the algorithm implementation and project presentation, and do what I can to be a great group project partner\". At the time I did not have an idea of what I exactly would want to work on in my final project, but during the mid-course reflections I mentioned that I would be interested in studying a data set and/or experimenting with assessing algorithmic bias. Through the project pitches, I found a project that greatly interested me: Implementing various machine learning models to generate risk scores and interpret its results in order to identify potential real-world inequities reflected by model generated risk scores. I worked with Lindsey and Sophie, and I found us to be a very well-oiled, effective and collaborative team. We did indeed complete all project milestones on time, keeping ourselves accountable in our semester time frame. We worked on the project bit by bit, piece by piece, and I was impressed myself with how well we timed the completion of our project. We all contributed to the project in an equal manner including in the algorithm implementation and project presentation, which was reflected in our group contribution statements on the project blog post. I was happy with my work in data visualization, model implementation, model experimentation, result analysis, project cleanup, and presentation. I think our project was successful both in its content and in our work as a team, more than meeting my expectations and goals for our project. \n",
    "\n",
    "\n",
    "\n",
    "\n"
   ]
  },
  {
   "attachments": {},
   "cell_type": "markdown",
   "metadata": {},
   "source": [
    "### Other\n",
    "\n",
    "*Is there anything else that you want to share with me about what you learned, how you participated, or what you achieved in CSCI 0451?*"
   ]
  },
  {
   "attachments": {},
   "cell_type": "markdown",
   "metadata": {},
   "source": [
    "There is nothing much else I would like to share, except that I am proud to look back and reflect on all the work and effort I have put into Machine Learning this semester."
   ]
  },
  {
   "attachments": {},
   "cell_type": "markdown",
   "metadata": {},
   "source": [
    "# Your Proposed Letter Grade\n",
    "\n",
    "*Take 15 minutes to look back on your responses in each of the sections above. Then, make a proposal for the letter grade that you feel best reflects your learning, participation, and achievement in CSCI 0451. Here are some soundbytes to help guide your thinking:*\n",
    "\n",
    "*An **A** sounds like:* \n",
    "\n",
    "- *\"I am very proud of my time in this course.\"*\n",
    "- *\"I have grown significantly in multiple ways that matter to me.\"*\n",
    "- *\"I am ready to take the theory, techniques, and ideas of this course into my future classes, projects, hobbies, or career.\"* \n",
    "\n",
    "*A **B** sounds like:* \n",
    "\n",
    "- *\"I had some opportunities to learn more, overall I feel good about my time in this course.\"*\n",
    "- *\"I am able to explain some new things or achieve new tasks.\"*\n",
    "- *\"I can see a few ideas from this course that will be relevant for my future classes, projects, hobbies, or career.\"*\n",
    "\n",
    "*A **C** sounds like:* \n",
    "\n",
    "- *\"I often made a good effort, but I missed many opportunities to get more out of my time in this course.\"*\n",
    "- *\"I might be able to complete some new tasks related to the course content, but only with significant further guidance.\"* \n",
    "- *\"I don't see any ways to take the contents of this course into my future classes, projects, hobbies, or career.\"*\n",
    "\n",
    "*You might find that some of these soundbytes resonate and other's don't! Take some time, see what feels right, and don't be afraid to celebrate your achievements.* "
   ]
  },
  {
   "attachments": {},
   "cell_type": "markdown",
   "metadata": {},
   "source": [
    "[Your proposed letter grade in this section should be based purely on demonstrations of learning that you have **already submitted**.]{.aside}\n",
    "\n",
    "> **Upon reflection, I feel that my learning, participation, and achievement in CSCI 0451 are best reflected by a grade of** A\n",
    "\n",
    "\n",
    "Upon completing this course reflection and evaluation, I am very proud that I have stuck in accordance with, and at times even superseeded my goals. I feel that I have acted as a hard-working student in this course, putting in the time and work that I wanted to see myself do in this class. For these reasons I feel like my learning participation and achievement in CSCI 0451 are best reflected by a grade of A. \n"
   ]
  }
 ],
 "metadata": {
  "kernelspec": {
   "display_name": "ml-0451",
   "language": "python",
   "name": "python3"
  },
  "language_info": {
   "name": "python",
   "version": "3.9.15"
  },
  "orig_nbformat": 4,
  "vscode": {
   "interpreter": {
    "hash": "debe06cc0f9553f110b64dc3926c05df82dae2145b852c8422b9c04315589dcb"
   }
  }
 },
 "nbformat": 4,
 "nbformat_minor": 2
}
