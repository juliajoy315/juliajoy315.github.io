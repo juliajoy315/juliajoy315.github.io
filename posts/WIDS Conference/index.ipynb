{
 "cells": [
  {
   "cell_type": "raw",
   "metadata": {},
   "source": [
    "---\n",
    "title: WiDS Conference at Middlebury College\n",
    "author: Julia Joy\n",
    "date: '2024-03-04'\n",
    "image: \"image.jpg\"\n",
    "description: \"Blog Post 3: Refelcting on and contextualizing the learning obtained from the Women in Data Science Conference\"\n",
    "format: html\n",
    "---"
   ]
  },
  {
   "cell_type": "markdown",
   "metadata": {},
   "source": [
    "### Abstract: \n",
    "In this blog post, I reflect on my experiences reading 'Solving the Equation: The Variables for Women’s Success in Engineering and Computing' by Corbett and Hill (2015) and attending the Women in Data Science conference. Through the two of these experiences, I gained valuable insights into the challenges and potential solutions surrounding gender diversity in STEM fields. I learned about the systemic barriers that hinder women's ability to enter, continue, and succeed in engineering and computing, that highlight the importance of proactive strategies to equalize representation of women in STEM. This blog post outlines these learnings by reflecting on questions from 'Solving the Equation: The Variables for Women’s Success in Engineering and Computing' as well as summarizing the speakers from the Women in Data Science conference. "
   ]
  },
  {
   "cell_type": "markdown",
   "metadata": {},
   "source": [
    "## Part 1: Why Spotlight Women in Data Science?\n",
    "\n",
    "In 'Solving the Equation: The Variables for Women’s Success in Engineering and Computing' by Corbett and Hill (2015), the authors show that women are underrepresented in computing, math, and engineering. But why is it a problem? And for whom is it a problem? \n",
    "\n",
    "This underrepresentation of women significant challenges on multiple fronts. This underrepresentation reflects systemic inequalities and biases that have been shown to hinder equal opportunities for women in these fields. By not teaching everyone that women can hold their own and be equally as good in STEM fields as men, women lose out on these high-quality job opportunities. This is not just a problem for women. By a lack of women in computing, math, and engineering, it not only deprives women of potential career paths, but it also limits the diversity of perspectives and talents that are crucial for solving problems, developing rounded mechanisms, and field innovation. As Corbet and Hill said, \"The United States simply can’t afford to ignore the perspectives of half the population in future engineering and technical designs\". Gender biases that contribute to the underrepresentation of women in computing, math, and engineering also create obstacles for the men who work alongside women in these industries. Studies point to a devaluation of work when men work with women (West et al., 2012), which can lead to men traking steps to avoid wokring with women, worsening the challenges facing women in male-dominated fields and contributing to the problem. Everyone must work together to help balance the gender representation in computing, math, and engineering, as it is a problem that affects us all no matter our identity.\n",
    "\n",
    "\n",
    "### Which of the barriers and unequal challenges described in the section “Why So Few?” can be eroded by events that spotlight the achievement of women in STEM?\n",
    "\n",
    "The section \"Why so Few?\" outlines various barriers and unequal challenges women face in the STEM field, such as sense of belonging, stereotypes and stereotype threat, challenging academic workspaces, as well as isolation. Women may face negative impacts such as experiencing difficultly balancing expected gendered home responsibilities and the culture of overwork, feel de-incentivized by the engineering culture of disengagement as studies show women are more likely than men to express a preference for work with a clear social purpose (Konrad et al., 2000), or feel isolated as significant portion of women reported feeling as if they lacked role models and mentors and did not agree with the statement that \"it is safe to speak up most of the time\". While not all of these barriers or challenges can be eroded by events that spotlight the achievement of women in STEM, there are a few that can benefit from these events. What stood out most notably to me that could be benefited by these events was improving the sense of belonging for women in STEM. Events that spotlight the achievement of women in STEM can help increase the sense of belonging for women in STEM, and can have a positive domino-effect in doing so. Events that spotlight the achievement of women in STEM shows examples of women in a historically male-dominated field, helping combat both internalized and external stereotypes. These events show women that success in STEM is possible, providing role models and mentors, which was also noted as a problem for women in the industry. Achievement spotlight events are thus crucial for increasing women's sense of belonging and increasing the number of women in STEM. \n"
   ]
  },
  {
   "cell_type": "markdown",
   "metadata": {},
   "source": [
    "### Part 2: Attending the Women in Data Science Conference. Yay!\n",
    "\n",
    "By attending the Women in Data Science Conference, I had an unique opportunity to engage with and hear from real professional women that have succeeded against all of the challenges in a male-dominated field, learning about their work as well as their experiences. "
   ]
  },
  {
   "cell_type": "markdown",
   "metadata": {},
   "source": [
    "# Lightning Talk 1: Is the United Nations Security Council a Democratic Institution? Musings and Measures of Representation by Professor Amy Yuen \n",
    "\n",
    "In the first lightning talk, Professor Amy Yuen, a professor of political science at Middlebury College, spoke about whether or not the United Nations Security Council is a Democratic Institution, and the challenges and thought put into measuring representation on the council. In order to get the audience to understand the goals of her study, Professor Yuen went into the structure and systems of the UN security council. The UN security council has 15 members, 5 of which are permanent and hold vetoing power, while the other 10 are alternating elected countries with no veto power. In order to understand if the United Nations Security Council is a democratic institution, it must hold some of the qualities of a democratic institution, such as representation. Who engages in the council? Whose issues get attention? In order to determine this through a data science route, measurements of resolutions, formal meetings and consultations, presidential statements..etc, were needed. It was found that the topic of sponsorship brought up discussions, as data showed that while permanent members brought up most of the discussed issues, the sitting elected members brought up a considerable chunk. How did the sitting elected members get to be on the council? Who serves more frequently and how long do elected members serve for? By employing data science methods, Professor Yuen was able to determine and visualize what the optimal inclusive representation of countries in the UN security council would look like. Plotted against the reality of the UN security council's history of elected members, it was found that it was pretty close to the inclusive line, indicating that at least the UN does succeed in the aspect of representation in the question of whether or not the United Nations Security Council is a Democratic Institution. \n",
    "\n",
    "I had not previously known that much about the United Nations Security Council, so I found Professor Yuen's talk to be quite informative both on the system of the security council, and on the process of which to determine whether an institution can be considered democractic or not. \n"
   ]
  },
  {
   "cell_type": "markdown",
   "metadata": {},
   "source": [
    "# Lightning Talk 2: Beyond Deforestation: Monitoring Change in Tropical Forest Landscapes by Professor Jessica L’Roe\n",
    "\n",
    "Professor Jessica L'Roe of the geography department at Middlebury College spoke about her study monitoring change in the tropical forest landscapes across the globe. Researching in Brazil, Peru, as well as Uganda, her research had themes of livelihoods, wellbeing, and land use in conservation hotspots. Using property parsal data and remote sensing of deforestation, Professor L'Roe and her team discovered that land registration in the region of the Amazon Rainforest in Brazil indicated that people would round down the classification of their land to be \"smallholders\" in order to avoid responsibility for deforestation. In Uganda, professor L'Roe monitored landscape changes around Kibale National Park, noting that the population of smallholders farms were increasing but rather than increasing food production, there were more trees being planted. Using brute force census, L'Roe and her team collected information on who is planting these trees and why they are planting them. Professor L'Roe wrapped up her talk by a reflection on a related problem of increasing land competition for local youth as they grow up, finding that Ugandian mothers were incresingly investing in education instead of land, because it was the safer bet for their children's futures, and especially for their daughters futures. \n",
    "\n",
    "Professor L'Roe's talk was informative in areas in which I have not really ever studied. I learned about how deforestation can be a systemic issue, the importance of and possibility of local accounts being treated as data points, and I learned that important information can still be collected via a brute force census method. I also enjoyed the professors emphasis on letting go of gender expectations when considering career paths!\n"
   ]
  },
  {
   "cell_type": "markdown",
   "metadata": {},
   "source": [
    "# Lightning Talk 3: Computational Linguistic Models of Mental Health By Professor Laura Biester\n",
    "\n",
    "The third lightning talk was given by a current professor of mine, Professor Laura Biester of the Computer Science department at Middlebury College. I found her study of computational linguistic models of mental health to be quite interesting, as it employed methods that we have been studying in class. Professor Biester's study aimed to study the connection between language and mental health, furthering a field that has utilized computers since 1980 to analyze language for mental health classification. This study found difficulty with access to high quality data, as it needed to find a way to use publicly available data that often relied on self-reports of depression diagnoses. In order to obtain this specific data for the study, Professor Biester scraped Reddit, narrowing down 360 json files to obtain usernames for people who had self-reported and the posts in which they did the self-reporting, as well as posts from control users who had never self-reported and thus assumed to not have a depression diagnosis. A dataset for test generalization was obtained from surveying University of Michigan students. Utilizing natural language processing techniques of TF-IDF and logistic regression, Professor Biester classifed with a linear model, then used mentalBERT to extract contextual representations of the words. The studys results found that a pre-diagnosis model did well when compared to an all-emcompassing model, the model weights for pre-diagnosis models corresponding more to symptoms while the all-encompassing model corresponded more to mental health discussion. This study emphasized the important of data collection in data science. \n",
    "\n",
    "Professor Biester had mentioned her study in passing in class before, but during WiDS she delved more into the practices in which she employed this study, it was interesting to learn how the methods she teaches us in class could be used on a real world study. "
   ]
  },
  {
   "cell_type": "markdown",
   "metadata": {},
   "source": [
    "# Keynote: Data Science Skills in Unexpected Places by Professor Sarah Brown\n",
    "\n",
    "The Keynote speaker was Professor Sarah Brown, a computer science professor and director of machine learning at the University of Rhode Island. Professor Brown's talk was focused on data science skills in unexpected places as well as focusing on potential ways to make machine learning more fair. Brown offered the idea of thinking of data science as a venn diagram intersection of computer science, statististics, and domain expertise. However she emphasized that domain expertise shifts, and the degree to which and content of which can vastly differ from one data science problem to another. She came to the idea of a data science \"toolbox\", with domain expertise being almost as a tool in ones toolbox approaching a problem, and an emphasis on the use of these tools to make machine learning more fair. \n",
    "\n",
    "Walking through 3 significant events in her life, Brown showed how each event led to a discovery of key factors she called \"keys\" to data science. The first key was the importance of data's context, which occurred to her when implementing a data science study about post-tramatic-stress-disorder (PTSD) in grad school. The second key was that disciplines are communities, that that sometimes in order to get the last bit of crucial missing information, all one needed to do was to ask people. The third key was found as Professor Brown was a national leader in the National Society of Black Engineers. By realizing that national level, regional level, and local level chapters of the NSBE all had different expectations and needs, she realized the third key- that one needs to meet people where they are. Brown raised the example that biased models are still making it out into the world because of the \"high accuracy levels\", but that these problematic models, by perpetuating biases, are not meeting people where they are. Through these events and realization of keys, Professor Brown was able to learn about and improve her data science in unexpected places. The talk concluded with remarks about how model predictions may not always be right, and how there will always be a tradeoff within the three statistical measures of fairness as it is currently impossible to perfectly have all three. "
   ]
  },
  {
   "cell_type": "markdown",
   "metadata": {},
   "source": [
    "### Reflection: \n",
    "Attending the Women in Data Science conference and reading 'Solving the Equation: The Variables for Women’s Success in Engineering and Computing' by Corbett and Hill (2015) have given me valuable insights into the multifaceted challenges and potential solutions surrounding gender diversity in STEM fields. There exist systemic barriers that hinder women's ability to enter as well as continue and succeed in the fields of engineering and computing. Attending the Women in Data Science conference was an unique opportunity to engage with and hear from real professional women that have succeeded against all of the challenges in a male-dominated field. Their studies and stories served as tangible examples of how women can overcome obstacles and thrive in STEM careers. From their talks I have learned that data science isn't always about modeling, but about the importance of quality data and data collection too. I have learned to meet people where they are, to treat the advice of those with domain expertise as tools, and to listen to locals/those with hands on experience about data I work with. I have learned about all the different forms and disciplines data science can be and take on. I hope to continue to learn from extraordinary women in STEM and follow in their footsteps. "
   ]
  }
 ],
 "metadata": {
  "kernelspec": {
   "display_name": "ml-0451",
   "language": "python",
   "name": "python3"
  },
  "language_info": {
   "codemirror_mode": {
    "name": "ipython",
    "version": 3
   },
   "file_extension": ".py",
   "mimetype": "text/x-python",
   "name": "python",
   "nbconvert_exporter": "python",
   "pygments_lexer": "ipython3",
   "version": "3.9.15"
  }
 },
 "nbformat": 4,
 "nbformat_minor": 4
}
